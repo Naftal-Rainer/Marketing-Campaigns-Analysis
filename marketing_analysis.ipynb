{
 "cells": [
  {
   "cell_type": "code",
   "execution_count": 14,
   "metadata": {},
   "outputs": [],
   "source": [
    "import numpy as np \n",
    "import pandas as pd \n",
    "import matplotlib.pyplot as plt"
   ]
  },
  {
   "cell_type": "code",
   "execution_count": 15,
   "metadata": {},
   "outputs": [
    {
     "data": {
      "text/html": [
       "<div>\n",
       "<style scoped>\n",
       "    .dataframe tbody tr th:only-of-type {\n",
       "        vertical-align: middle;\n",
       "    }\n",
       "\n",
       "    .dataframe tbody tr th {\n",
       "        vertical-align: top;\n",
       "    }\n",
       "\n",
       "    .dataframe thead th {\n",
       "        text-align: right;\n",
       "    }\n",
       "</style>\n",
       "<table border=\"1\" class=\"dataframe\">\n",
       "  <thead>\n",
       "    <tr style=\"text-align: right;\">\n",
       "      <th></th>\n",
       "      <th>user_id</th>\n",
       "      <th>date_served</th>\n",
       "      <th>marketing_channel</th>\n",
       "      <th>variant</th>\n",
       "      <th>converted</th>\n",
       "      <th>language_displayed</th>\n",
       "      <th>language_preferred</th>\n",
       "      <th>age_group</th>\n",
       "      <th>date_subscribed</th>\n",
       "      <th>date_canceled</th>\n",
       "      <th>subscribing_channel</th>\n",
       "      <th>is_retained</th>\n",
       "    </tr>\n",
       "  </thead>\n",
       "  <tbody>\n",
       "    <tr>\n",
       "      <th>0</th>\n",
       "      <td>a100000029</td>\n",
       "      <td>1/1/18</td>\n",
       "      <td>House Ads</td>\n",
       "      <td>personalization</td>\n",
       "      <td>True</td>\n",
       "      <td>English</td>\n",
       "      <td>English</td>\n",
       "      <td>0-18 years</td>\n",
       "      <td>2018-01-01</td>\n",
       "      <td>NaT</td>\n",
       "      <td>House Ads</td>\n",
       "      <td>True</td>\n",
       "    </tr>\n",
       "    <tr>\n",
       "      <th>1</th>\n",
       "      <td>a100000030</td>\n",
       "      <td>1/1/18</td>\n",
       "      <td>House Ads</td>\n",
       "      <td>personalization</td>\n",
       "      <td>True</td>\n",
       "      <td>English</td>\n",
       "      <td>English</td>\n",
       "      <td>19-24 years</td>\n",
       "      <td>2018-01-01</td>\n",
       "      <td>NaT</td>\n",
       "      <td>House Ads</td>\n",
       "      <td>True</td>\n",
       "    </tr>\n",
       "    <tr>\n",
       "      <th>2</th>\n",
       "      <td>a100000031</td>\n",
       "      <td>1/1/18</td>\n",
       "      <td>House Ads</td>\n",
       "      <td>personalization</td>\n",
       "      <td>True</td>\n",
       "      <td>English</td>\n",
       "      <td>English</td>\n",
       "      <td>24-30 years</td>\n",
       "      <td>2018-01-01</td>\n",
       "      <td>NaT</td>\n",
       "      <td>House Ads</td>\n",
       "      <td>True</td>\n",
       "    </tr>\n",
       "    <tr>\n",
       "      <th>3</th>\n",
       "      <td>a100000032</td>\n",
       "      <td>1/1/18</td>\n",
       "      <td>House Ads</td>\n",
       "      <td>personalization</td>\n",
       "      <td>True</td>\n",
       "      <td>English</td>\n",
       "      <td>English</td>\n",
       "      <td>30-36 years</td>\n",
       "      <td>2018-01-01</td>\n",
       "      <td>NaT</td>\n",
       "      <td>House Ads</td>\n",
       "      <td>True</td>\n",
       "    </tr>\n",
       "    <tr>\n",
       "      <th>4</th>\n",
       "      <td>a100000033</td>\n",
       "      <td>1/1/18</td>\n",
       "      <td>House Ads</td>\n",
       "      <td>personalization</td>\n",
       "      <td>True</td>\n",
       "      <td>English</td>\n",
       "      <td>English</td>\n",
       "      <td>36-45 years</td>\n",
       "      <td>2018-01-01</td>\n",
       "      <td>NaT</td>\n",
       "      <td>House Ads</td>\n",
       "      <td>True</td>\n",
       "    </tr>\n",
       "  </tbody>\n",
       "</table>\n",
       "</div>"
      ],
      "text/plain": [
       "      user_id date_served marketing_channel          variant converted  \\\n",
       "0  a100000029      1/1/18         House Ads  personalization      True   \n",
       "1  a100000030      1/1/18         House Ads  personalization      True   \n",
       "2  a100000031      1/1/18         House Ads  personalization      True   \n",
       "3  a100000032      1/1/18         House Ads  personalization      True   \n",
       "4  a100000033      1/1/18         House Ads  personalization      True   \n",
       "\n",
       "  language_displayed language_preferred    age_group date_subscribed  \\\n",
       "0            English            English   0-18 years      2018-01-01   \n",
       "1            English            English  19-24 years      2018-01-01   \n",
       "2            English            English  24-30 years      2018-01-01   \n",
       "3            English            English  30-36 years      2018-01-01   \n",
       "4            English            English  36-45 years      2018-01-01   \n",
       "\n",
       "  date_canceled subscribing_channel is_retained  \n",
       "0           NaT           House Ads        True  \n",
       "1           NaT           House Ads        True  \n",
       "2           NaT           House Ads        True  \n",
       "3           NaT           House Ads        True  \n",
       "4           NaT           House Ads        True  "
      ]
     },
     "execution_count": 15,
     "metadata": {},
     "output_type": "execute_result"
    }
   ],
   "source": [
    "marketing = pd.read_csv('marketing.csv', \n",
    "                        parse_dates=['date_subscribed', 'date_canceled'])\n",
    "marketing.head()"
   ]
  },
  {
   "cell_type": "code",
   "execution_count": 16,
   "metadata": {},
   "outputs": [
    {
     "name": "stderr",
     "output_type": "stream",
     "text": [
      "C:\\Users\\user\\AppData\\Local\\Temp\\ipykernel_16064\\948423620.py:1: FutureWarning: Treating datetime data as categorical rather than numeric in `.describe` is deprecated and will be removed in a future version of pandas. Specify `datetime_is_numeric=True` to silence this warning and adopt the future behavior now.\n",
      "  marketing.describe()\n",
      "C:\\Users\\user\\AppData\\Local\\Temp\\ipykernel_16064\\948423620.py:1: FutureWarning: Treating datetime data as categorical rather than numeric in `.describe` is deprecated and will be removed in a future version of pandas. Specify `datetime_is_numeric=True` to silence this warning and adopt the future behavior now.\n",
      "  marketing.describe()\n"
     ]
    },
    {
     "data": {
      "text/html": [
       "<div>\n",
       "<style scoped>\n",
       "    .dataframe tbody tr th:only-of-type {\n",
       "        vertical-align: middle;\n",
       "    }\n",
       "\n",
       "    .dataframe tbody tr th {\n",
       "        vertical-align: top;\n",
       "    }\n",
       "\n",
       "    .dataframe thead th {\n",
       "        text-align: right;\n",
       "    }\n",
       "</style>\n",
       "<table border=\"1\" class=\"dataframe\">\n",
       "  <thead>\n",
       "    <tr style=\"text-align: right;\">\n",
       "      <th></th>\n",
       "      <th>user_id</th>\n",
       "      <th>date_served</th>\n",
       "      <th>marketing_channel</th>\n",
       "      <th>variant</th>\n",
       "      <th>converted</th>\n",
       "      <th>language_displayed</th>\n",
       "      <th>language_preferred</th>\n",
       "      <th>age_group</th>\n",
       "      <th>date_subscribed</th>\n",
       "      <th>date_canceled</th>\n",
       "      <th>subscribing_channel</th>\n",
       "      <th>is_retained</th>\n",
       "    </tr>\n",
       "  </thead>\n",
       "  <tbody>\n",
       "    <tr>\n",
       "      <th>count</th>\n",
       "      <td>10037</td>\n",
       "      <td>10021</td>\n",
       "      <td>10022</td>\n",
       "      <td>10037</td>\n",
       "      <td>10022</td>\n",
       "      <td>10037</td>\n",
       "      <td>10037</td>\n",
       "      <td>10037</td>\n",
       "      <td>1856</td>\n",
       "      <td>577</td>\n",
       "      <td>1856</td>\n",
       "      <td>1856</td>\n",
       "    </tr>\n",
       "    <tr>\n",
       "      <th>unique</th>\n",
       "      <td>7309</td>\n",
       "      <td>31</td>\n",
       "      <td>5</td>\n",
       "      <td>2</td>\n",
       "      <td>2</td>\n",
       "      <td>4</td>\n",
       "      <td>4</td>\n",
       "      <td>7</td>\n",
       "      <td>31</td>\n",
       "      <td>115</td>\n",
       "      <td>5</td>\n",
       "      <td>2</td>\n",
       "    </tr>\n",
       "    <tr>\n",
       "      <th>top</th>\n",
       "      <td>a100000882</td>\n",
       "      <td>1/15/18</td>\n",
       "      <td>House Ads</td>\n",
       "      <td>control</td>\n",
       "      <td>False</td>\n",
       "      <td>English</td>\n",
       "      <td>English</td>\n",
       "      <td>19-24 years</td>\n",
       "      <td>2018-01-16 00:00:00</td>\n",
       "      <td>2018-04-02 00:00:00</td>\n",
       "      <td>Instagram</td>\n",
       "      <td>True</td>\n",
       "    </tr>\n",
       "    <tr>\n",
       "      <th>freq</th>\n",
       "      <td>12</td>\n",
       "      <td>789</td>\n",
       "      <td>4733</td>\n",
       "      <td>5091</td>\n",
       "      <td>8946</td>\n",
       "      <td>9793</td>\n",
       "      <td>9275</td>\n",
       "      <td>1682</td>\n",
       "      <td>163</td>\n",
       "      <td>15</td>\n",
       "      <td>600</td>\n",
       "      <td>1279</td>\n",
       "    </tr>\n",
       "    <tr>\n",
       "      <th>first</th>\n",
       "      <td>NaN</td>\n",
       "      <td>NaN</td>\n",
       "      <td>NaN</td>\n",
       "      <td>NaN</td>\n",
       "      <td>NaN</td>\n",
       "      <td>NaN</td>\n",
       "      <td>NaN</td>\n",
       "      <td>NaN</td>\n",
       "      <td>2018-01-01 00:00:00</td>\n",
       "      <td>2018-01-05 00:00:00</td>\n",
       "      <td>NaN</td>\n",
       "      <td>NaN</td>\n",
       "    </tr>\n",
       "    <tr>\n",
       "      <th>last</th>\n",
       "      <td>NaN</td>\n",
       "      <td>NaN</td>\n",
       "      <td>NaN</td>\n",
       "      <td>NaN</td>\n",
       "      <td>NaN</td>\n",
       "      <td>NaN</td>\n",
       "      <td>NaN</td>\n",
       "      <td>NaN</td>\n",
       "      <td>2018-01-31 00:00:00</td>\n",
       "      <td>2018-05-09 00:00:00</td>\n",
       "      <td>NaN</td>\n",
       "      <td>NaN</td>\n",
       "    </tr>\n",
       "  </tbody>\n",
       "</table>\n",
       "</div>"
      ],
      "text/plain": [
       "           user_id date_served marketing_channel  variant converted  \\\n",
       "count        10037       10021             10022    10037     10022   \n",
       "unique        7309          31                 5        2         2   \n",
       "top     a100000882     1/15/18         House Ads  control     False   \n",
       "freq            12         789              4733     5091      8946   \n",
       "first          NaN         NaN               NaN      NaN       NaN   \n",
       "last           NaN         NaN               NaN      NaN       NaN   \n",
       "\n",
       "       language_displayed language_preferred    age_group  \\\n",
       "count               10037              10037        10037   \n",
       "unique                  4                  4            7   \n",
       "top               English            English  19-24 years   \n",
       "freq                 9793               9275         1682   \n",
       "first                 NaN                NaN          NaN   \n",
       "last                  NaN                NaN          NaN   \n",
       "\n",
       "            date_subscribed        date_canceled subscribing_channel  \\\n",
       "count                  1856                  577                1856   \n",
       "unique                   31                  115                   5   \n",
       "top     2018-01-16 00:00:00  2018-04-02 00:00:00           Instagram   \n",
       "freq                    163                   15                 600   \n",
       "first   2018-01-01 00:00:00  2018-01-05 00:00:00                 NaN   \n",
       "last    2018-01-31 00:00:00  2018-05-09 00:00:00                 NaN   \n",
       "\n",
       "       is_retained  \n",
       "count         1856  \n",
       "unique           2  \n",
       "top           True  \n",
       "freq          1279  \n",
       "first          NaN  \n",
       "last           NaN  "
      ]
     },
     "execution_count": 16,
     "metadata": {},
     "output_type": "execute_result"
    }
   ],
   "source": [
    "marketing.describe()"
   ]
  },
  {
   "cell_type": "code",
   "execution_count": 17,
   "metadata": {},
   "outputs": [
    {
     "name": "stdout",
     "output_type": "stream",
     "text": [
      "<class 'pandas.core.frame.DataFrame'>\n",
      "RangeIndex: 10037 entries, 0 to 10036\n",
      "Data columns (total 12 columns):\n",
      " #   Column               Non-Null Count  Dtype         \n",
      "---  ------               --------------  -----         \n",
      " 0   user_id              10037 non-null  object        \n",
      " 1   date_served          10021 non-null  object        \n",
      " 2   marketing_channel    10022 non-null  object        \n",
      " 3   variant              10037 non-null  object        \n",
      " 4   converted            10022 non-null  object        \n",
      " 5   language_displayed   10037 non-null  object        \n",
      " 6   language_preferred   10037 non-null  object        \n",
      " 7   age_group            10037 non-null  object        \n",
      " 8   date_subscribed      1856 non-null   datetime64[ns]\n",
      " 9   date_canceled        577 non-null    datetime64[ns]\n",
      " 10  subscribing_channel  1856 non-null   object        \n",
      " 11  is_retained          1856 non-null   object        \n",
      "dtypes: datetime64[ns](2), object(10)\n",
      "memory usage: 941.1+ KB\n"
     ]
    }
   ],
   "source": [
    "marketing.info()"
   ]
  },
  {
   "cell_type": "code",
   "execution_count": 18,
   "metadata": {},
   "outputs": [
    {
     "data": {
      "text/plain": [
       "array(['House Ads', 'Push', 'Facebook', 'Instagram', 'Email', nan],\n",
       "      dtype=object)"
      ]
     },
     "execution_count": 18,
     "metadata": {},
     "output_type": "execute_result"
    }
   ],
   "source": [
    "marketing['marketing_channel'].unique()"
   ]
  },
  {
   "cell_type": "code",
   "execution_count": 19,
   "metadata": {},
   "outputs": [],
   "source": [
    "marketing['converted'] = marketing['converted'].astype('bool')\n",
    "\n",
    "marketing['is_house_ad'] = np.where(\n",
    "    marketing['marketing_channel'] == 'House Ads', True, False\n",
    ")"
   ]
  },
  {
   "cell_type": "code",
   "execution_count": 20,
   "metadata": {},
   "outputs": [
    {
     "data": {
      "text/plain": [
       "0    1.0\n",
       "1    1.0\n",
       "2    1.0\n",
       "3    1.0\n",
       "4    1.0\n",
       "Name: Channel_code, dtype: float64"
      ]
     },
     "execution_count": 20,
     "metadata": {},
     "output_type": "execute_result"
    }
   ],
   "source": [
    "channel_dic = {'House Ads': 1,  'Facebook':3, 'Instagram':2, 'Email':4, 'Push':5}\n",
    "marketing['Channel_code'] = marketing['marketing_channel'].map(channel_dic)\n",
    "marketing['Channel_code'].head()"
   ]
  },
  {
   "cell_type": "code",
   "execution_count": 21,
   "metadata": {},
   "outputs": [
    {
     "data": {
      "text/html": [
       "<div>\n",
       "<style scoped>\n",
       "    .dataframe tbody tr th:only-of-type {\n",
       "        vertical-align: middle;\n",
       "    }\n",
       "\n",
       "    .dataframe tbody tr th {\n",
       "        vertical-align: top;\n",
       "    }\n",
       "\n",
       "    .dataframe thead th {\n",
       "        text-align: right;\n",
       "    }\n",
       "</style>\n",
       "<table border=\"1\" class=\"dataframe\">\n",
       "  <thead>\n",
       "    <tr style=\"text-align: right;\">\n",
       "      <th></th>\n",
       "      <th>user_id</th>\n",
       "      <th>date_served</th>\n",
       "      <th>marketing_channel</th>\n",
       "      <th>variant</th>\n",
       "      <th>converted</th>\n",
       "      <th>language_displayed</th>\n",
       "      <th>language_preferred</th>\n",
       "      <th>age_group</th>\n",
       "      <th>date_subscribed</th>\n",
       "      <th>date_canceled</th>\n",
       "      <th>subscribing_channel</th>\n",
       "      <th>is_retained</th>\n",
       "      <th>is_house_ad</th>\n",
       "      <th>Channel_code</th>\n",
       "    </tr>\n",
       "  </thead>\n",
       "  <tbody>\n",
       "    <tr>\n",
       "      <th>0</th>\n",
       "      <td>a100000029</td>\n",
       "      <td>1/1/18</td>\n",
       "      <td>House Ads</td>\n",
       "      <td>personalization</td>\n",
       "      <td>True</td>\n",
       "      <td>English</td>\n",
       "      <td>English</td>\n",
       "      <td>0-18 years</td>\n",
       "      <td>2018-01-01</td>\n",
       "      <td>NaT</td>\n",
       "      <td>House Ads</td>\n",
       "      <td>True</td>\n",
       "      <td>True</td>\n",
       "      <td>1.0</td>\n",
       "    </tr>\n",
       "    <tr>\n",
       "      <th>1</th>\n",
       "      <td>a100000030</td>\n",
       "      <td>1/1/18</td>\n",
       "      <td>House Ads</td>\n",
       "      <td>personalization</td>\n",
       "      <td>True</td>\n",
       "      <td>English</td>\n",
       "      <td>English</td>\n",
       "      <td>19-24 years</td>\n",
       "      <td>2018-01-01</td>\n",
       "      <td>NaT</td>\n",
       "      <td>House Ads</td>\n",
       "      <td>True</td>\n",
       "      <td>True</td>\n",
       "      <td>1.0</td>\n",
       "    </tr>\n",
       "    <tr>\n",
       "      <th>2</th>\n",
       "      <td>a100000031</td>\n",
       "      <td>1/1/18</td>\n",
       "      <td>House Ads</td>\n",
       "      <td>personalization</td>\n",
       "      <td>True</td>\n",
       "      <td>English</td>\n",
       "      <td>English</td>\n",
       "      <td>24-30 years</td>\n",
       "      <td>2018-01-01</td>\n",
       "      <td>NaT</td>\n",
       "      <td>House Ads</td>\n",
       "      <td>True</td>\n",
       "      <td>True</td>\n",
       "      <td>1.0</td>\n",
       "    </tr>\n",
       "    <tr>\n",
       "      <th>3</th>\n",
       "      <td>a100000032</td>\n",
       "      <td>1/1/18</td>\n",
       "      <td>House Ads</td>\n",
       "      <td>personalization</td>\n",
       "      <td>True</td>\n",
       "      <td>English</td>\n",
       "      <td>English</td>\n",
       "      <td>30-36 years</td>\n",
       "      <td>2018-01-01</td>\n",
       "      <td>NaT</td>\n",
       "      <td>House Ads</td>\n",
       "      <td>True</td>\n",
       "      <td>True</td>\n",
       "      <td>1.0</td>\n",
       "    </tr>\n",
       "    <tr>\n",
       "      <th>4</th>\n",
       "      <td>a100000033</td>\n",
       "      <td>1/1/18</td>\n",
       "      <td>House Ads</td>\n",
       "      <td>personalization</td>\n",
       "      <td>True</td>\n",
       "      <td>English</td>\n",
       "      <td>English</td>\n",
       "      <td>36-45 years</td>\n",
       "      <td>2018-01-01</td>\n",
       "      <td>NaT</td>\n",
       "      <td>House Ads</td>\n",
       "      <td>True</td>\n",
       "      <td>True</td>\n",
       "      <td>1.0</td>\n",
       "    </tr>\n",
       "  </tbody>\n",
       "</table>\n",
       "</div>"
      ],
      "text/plain": [
       "      user_id date_served marketing_channel          variant  converted  \\\n",
       "0  a100000029      1/1/18         House Ads  personalization       True   \n",
       "1  a100000030      1/1/18         House Ads  personalization       True   \n",
       "2  a100000031      1/1/18         House Ads  personalization       True   \n",
       "3  a100000032      1/1/18         House Ads  personalization       True   \n",
       "4  a100000033      1/1/18         House Ads  personalization       True   \n",
       "\n",
       "  language_displayed language_preferred    age_group date_subscribed  \\\n",
       "0            English            English   0-18 years      2018-01-01   \n",
       "1            English            English  19-24 years      2018-01-01   \n",
       "2            English            English  24-30 years      2018-01-01   \n",
       "3            English            English  30-36 years      2018-01-01   \n",
       "4            English            English  36-45 years      2018-01-01   \n",
       "\n",
       "  date_canceled subscribing_channel is_retained  is_house_ad  Channel_code  \n",
       "0           NaT           House Ads        True         True           1.0  \n",
       "1           NaT           House Ads        True         True           1.0  \n",
       "2           NaT           House Ads        True         True           1.0  \n",
       "3           NaT           House Ads        True         True           1.0  \n",
       "4           NaT           House Ads        True         True           1.0  "
      ]
     },
     "execution_count": 21,
     "metadata": {},
     "output_type": "execute_result"
    }
   ],
   "source": [
    "marketing.head()"
   ]
  },
  {
   "cell_type": "code",
   "execution_count": 22,
   "metadata": {},
   "outputs": [],
   "source": [
    "marketing['date_served'] = pd.to_datetime(marketing['date_served'])\n",
    "marketing['day_served'] = marketing['date_served'].dt.day_of_week\n",
    "marketing['DoW'] = marketing['date_subscribed'].dt.day_of_week"
   ]
  },
  {
   "cell_type": "code",
   "execution_count": 23,
   "metadata": {},
   "outputs": [
    {
     "data": {
      "text/plain": [
       "array(['English', 'German', 'Arabic', 'Spanish'], dtype=object)"
      ]
     },
     "execution_count": 23,
     "metadata": {},
     "output_type": "execute_result"
    }
   ],
   "source": [
    "marketing['language_displayed'].unique()"
   ]
  },
  {
   "cell_type": "code",
   "execution_count": 24,
   "metadata": {},
   "outputs": [
    {
     "data": {
      "text/html": [
       "<div>\n",
       "<style scoped>\n",
       "    .dataframe tbody tr th:only-of-type {\n",
       "        vertical-align: middle;\n",
       "    }\n",
       "\n",
       "    .dataframe tbody tr th {\n",
       "        vertical-align: top;\n",
       "    }\n",
       "\n",
       "    .dataframe thead th {\n",
       "        text-align: right;\n",
       "    }\n",
       "</style>\n",
       "<table border=\"1\" class=\"dataframe\">\n",
       "  <thead>\n",
       "    <tr style=\"text-align: right;\">\n",
       "      <th></th>\n",
       "      <th>user_id</th>\n",
       "      <th>date_served</th>\n",
       "      <th>marketing_channel</th>\n",
       "      <th>variant</th>\n",
       "      <th>converted</th>\n",
       "      <th>language_displayed</th>\n",
       "      <th>language_preferred</th>\n",
       "      <th>age_group</th>\n",
       "      <th>date_subscribed</th>\n",
       "      <th>date_canceled</th>\n",
       "      <th>subscribing_channel</th>\n",
       "      <th>is_retained</th>\n",
       "      <th>is_house_ad</th>\n",
       "      <th>Channel_code</th>\n",
       "      <th>day_served</th>\n",
       "      <th>DoW</th>\n",
       "      <th>is_correct_lang</th>\n",
       "    </tr>\n",
       "  </thead>\n",
       "  <tbody>\n",
       "    <tr>\n",
       "      <th>0</th>\n",
       "      <td>a100000029</td>\n",
       "      <td>2018-01-01</td>\n",
       "      <td>House Ads</td>\n",
       "      <td>personalization</td>\n",
       "      <td>True</td>\n",
       "      <td>English</td>\n",
       "      <td>English</td>\n",
       "      <td>0-18 years</td>\n",
       "      <td>2018-01-01</td>\n",
       "      <td>NaT</td>\n",
       "      <td>House Ads</td>\n",
       "      <td>True</td>\n",
       "      <td>True</td>\n",
       "      <td>1.0</td>\n",
       "      <td>0.0</td>\n",
       "      <td>0.0</td>\n",
       "      <td>Yes</td>\n",
       "    </tr>\n",
       "    <tr>\n",
       "      <th>1</th>\n",
       "      <td>a100000030</td>\n",
       "      <td>2018-01-01</td>\n",
       "      <td>House Ads</td>\n",
       "      <td>personalization</td>\n",
       "      <td>True</td>\n",
       "      <td>English</td>\n",
       "      <td>English</td>\n",
       "      <td>19-24 years</td>\n",
       "      <td>2018-01-01</td>\n",
       "      <td>NaT</td>\n",
       "      <td>House Ads</td>\n",
       "      <td>True</td>\n",
       "      <td>True</td>\n",
       "      <td>1.0</td>\n",
       "      <td>0.0</td>\n",
       "      <td>0.0</td>\n",
       "      <td>Yes</td>\n",
       "    </tr>\n",
       "    <tr>\n",
       "      <th>2</th>\n",
       "      <td>a100000031</td>\n",
       "      <td>2018-01-01</td>\n",
       "      <td>House Ads</td>\n",
       "      <td>personalization</td>\n",
       "      <td>True</td>\n",
       "      <td>English</td>\n",
       "      <td>English</td>\n",
       "      <td>24-30 years</td>\n",
       "      <td>2018-01-01</td>\n",
       "      <td>NaT</td>\n",
       "      <td>House Ads</td>\n",
       "      <td>True</td>\n",
       "      <td>True</td>\n",
       "      <td>1.0</td>\n",
       "      <td>0.0</td>\n",
       "      <td>0.0</td>\n",
       "      <td>Yes</td>\n",
       "    </tr>\n",
       "    <tr>\n",
       "      <th>3</th>\n",
       "      <td>a100000032</td>\n",
       "      <td>2018-01-01</td>\n",
       "      <td>House Ads</td>\n",
       "      <td>personalization</td>\n",
       "      <td>True</td>\n",
       "      <td>English</td>\n",
       "      <td>English</td>\n",
       "      <td>30-36 years</td>\n",
       "      <td>2018-01-01</td>\n",
       "      <td>NaT</td>\n",
       "      <td>House Ads</td>\n",
       "      <td>True</td>\n",
       "      <td>True</td>\n",
       "      <td>1.0</td>\n",
       "      <td>0.0</td>\n",
       "      <td>0.0</td>\n",
       "      <td>Yes</td>\n",
       "    </tr>\n",
       "    <tr>\n",
       "      <th>4</th>\n",
       "      <td>a100000033</td>\n",
       "      <td>2018-01-01</td>\n",
       "      <td>House Ads</td>\n",
       "      <td>personalization</td>\n",
       "      <td>True</td>\n",
       "      <td>English</td>\n",
       "      <td>English</td>\n",
       "      <td>36-45 years</td>\n",
       "      <td>2018-01-01</td>\n",
       "      <td>NaT</td>\n",
       "      <td>House Ads</td>\n",
       "      <td>True</td>\n",
       "      <td>True</td>\n",
       "      <td>1.0</td>\n",
       "      <td>0.0</td>\n",
       "      <td>0.0</td>\n",
       "      <td>Yes</td>\n",
       "    </tr>\n",
       "  </tbody>\n",
       "</table>\n",
       "</div>"
      ],
      "text/plain": [
       "      user_id date_served marketing_channel          variant  converted  \\\n",
       "0  a100000029  2018-01-01         House Ads  personalization       True   \n",
       "1  a100000030  2018-01-01         House Ads  personalization       True   \n",
       "2  a100000031  2018-01-01         House Ads  personalization       True   \n",
       "3  a100000032  2018-01-01         House Ads  personalization       True   \n",
       "4  a100000033  2018-01-01         House Ads  personalization       True   \n",
       "\n",
       "  language_displayed language_preferred    age_group date_subscribed  \\\n",
       "0            English            English   0-18 years      2018-01-01   \n",
       "1            English            English  19-24 years      2018-01-01   \n",
       "2            English            English  24-30 years      2018-01-01   \n",
       "3            English            English  30-36 years      2018-01-01   \n",
       "4            English            English  36-45 years      2018-01-01   \n",
       "\n",
       "  date_canceled subscribing_channel is_retained  is_house_ad  Channel_code  \\\n",
       "0           NaT           House Ads        True         True           1.0   \n",
       "1           NaT           House Ads        True         True           1.0   \n",
       "2           NaT           House Ads        True         True           1.0   \n",
       "3           NaT           House Ads        True         True           1.0   \n",
       "4           NaT           House Ads        True         True           1.0   \n",
       "\n",
       "   day_served  DoW is_correct_lang  \n",
       "0         0.0  0.0             Yes  \n",
       "1         0.0  0.0             Yes  \n",
       "2         0.0  0.0             Yes  \n",
       "3         0.0  0.0             Yes  \n",
       "4         0.0  0.0             Yes  "
      ]
     },
     "execution_count": 24,
     "metadata": {},
     "output_type": "execute_result"
    }
   ],
   "source": [
    "marketing['is_correct_lang'] = np.where(marketing['language_displayed'] == marketing['language_preferred'], 'Yes', 'No')\n",
    "marketing.head()"
   ]
  },
  {
   "cell_type": "markdown",
   "metadata": {},
   "source": [
    "### EDA"
   ]
  },
  {
   "cell_type": "markdown",
   "metadata": {},
   "source": [
    "How many marketing users see marketing assets?"
   ]
  },
  {
   "cell_type": "code",
   "execution_count": 28,
   "metadata": {},
   "outputs": [
    {
     "data": {
      "text/plain": [
       "date_served\n",
       "2018-01-01    362\n",
       "2018-01-02    374\n",
       "2018-01-03    348\n",
       "2018-01-04    323\n",
       "2018-01-05    319\n",
       "2018-01-06    308\n",
       "2018-01-07    275\n",
       "2018-01-08    312\n",
       "2018-01-09    312\n",
       "2018-01-10    337\n",
       "2018-01-11    310\n",
       "2018-01-12    301\n",
       "2018-01-13    306\n",
       "2018-01-14    305\n",
       "2018-01-15    767\n",
       "2018-01-16    388\n",
       "2018-01-17    369\n",
       "2018-01-18    318\n",
       "2018-01-19    305\n",
       "2018-01-20    311\n",
       "2018-01-21    229\n",
       "2018-01-22    178\n",
       "2018-01-23    172\n",
       "2018-01-24    190\n",
       "2018-01-25    184\n",
       "2018-01-26    222\n",
       "2018-01-27    320\n",
       "2018-01-28    320\n",
       "2018-01-29    319\n",
       "2018-01-30    317\n",
       "2018-01-31    340\n",
       "Name: user_id, dtype: int64"
      ]
     },
     "execution_count": 28,
     "metadata": {},
     "output_type": "execute_result"
    }
   ],
   "source": [
    "# Aggregate users that see ads by date\n",
    "daily_users = marketing.groupby(['date_served'])['user_id'].nunique()\n",
    "daily_users"
   ]
  },
  {
   "cell_type": "code",
   "execution_count": 31,
   "metadata": {},
   "outputs": [
    {
     "data": {
      "image/png": "[encoded data removed]",
      "text/plain": [
       "<Figure size 640x480 with 1 Axes>"
      ]
     },
     "metadata": {},
     "output_type": "display_data"
    }
   ],
   "source": [
    "daily_users.plot()\n",
    "plt.title('Daily number of users who see ads')\n",
    "plt.xlabel('Date')\n",
    "plt.ylabel('Number of users')\n",
    "plt.xticks(rotation = 45)\n",
    "plt.show()"
   ]
  },
  {
   "cell_type": "markdown",
   "metadata": {},
   "source": [
    "Much like in daily users who view marketing assets, there's a large peak around the time when an email blast goes out."
   ]
  },
  {
   "cell_type": "markdown",
   "metadata": {},
   "source": [
    "## Common Marketing Metrics"
   ]
  },
  {
   "cell_type": "markdown",
   "metadata": {},
   "source": [
    "Conversion Rate - Of all the people who came into contact with your marketing campaign, how many bought the product? (Prchase or Subscribed)\n",
    "\n",
    "Retention Rate - Stay of a subscriber"
   ]
  },
  {
   "cell_type": "code",
   "execution_count": 36,
   "metadata": {},
   "outputs": [
    {
     "name": "stdout",
     "output_type": "stream",
     "text": [
      "14.09 %\n"
     ]
    }
   ],
   "source": [
    "# Calculating subscription rate\n",
    "subscribers = marketing[marketing['converted'] == True]['user_id'].nunique()\n",
    "\n",
    "total = marketing['user_id'].nunique()\n",
    "\n",
    "conv_rate = subscribers / total\n",
    "print(round(conv_rate*100,2),'%')"
   ]
  },
  {
   "cell_type": "code",
   "execution_count": 37,
   "metadata": {},
   "outputs": [
    {
     "name": "stdout",
     "output_type": "stream",
     "text": [
      "65.83 %\n"
     ]
    }
   ],
   "source": [
    "# Calculating retention rate\n",
    "retained = marketing[marketing['is_retained'] == True]['user_id'].nunique()\n",
    "subscribers = marketing[marketing['converted'] == True]['user_id'].nunique()\n",
    "\n",
    "retention = retained / subscribers\n",
    "print(round(retention*100,2),'%')"
   ]
  },
  {
   "cell_type": "markdown",
   "metadata": {},
   "source": [
    "### Customer Segmentation"
   ]
  },
  {
   "cell_type": "markdown",
   "metadata": {},
   "source": [
    "Breaking down metrics by specific characteristic e.g Age, gender. location, past interactions , marketing channels used by users."
   ]
  },
  {
   "cell_type": "markdown",
   "metadata": {},
   "source": [
    "**By Marketing Channels**"
   ]
  },
  {
   "cell_type": "code",
   "execution_count": 38,
   "metadata": {},
   "outputs": [
    {
     "name": "stdout",
     "output_type": "stream",
     "text": [
      "58.05 %\n"
     ]
    }
   ],
   "source": [
    "house_ads = marketing[marketing['subscribing_channel'] == 'House Ads']\n",
    "\n",
    "# Calculating retention rate\n",
    "retained = house_ads[house_ads['is_retained'] == True]['user_id'].nunique()\n",
    "subscribers = house_ads[house_ads['converted'] == True]['user_id'].nunique()\n",
    "\n",
    "retention_rate = retained / subscribers\n",
    "print(round(retention_rate*100,2),'%')"
   ]
  },
  {
   "cell_type": "markdown",
   "metadata": {},
   "source": [
    "Compare retention rates across all channels to check whether some channels perform better than others"
   ]
  },
  {
   "cell_type": "code",
   "execution_count": 40,
   "metadata": {},
   "outputs": [
    {
     "data": {
      "text/plain": [
       "subscribing_channel\n",
       "Email        141\n",
       "Facebook     152\n",
       "House Ads    173\n",
       "Instagram    158\n",
       "Push          54\n",
       "Name: user_id, dtype: int64"
      ]
     },
     "execution_count": 40,
     "metadata": {},
     "output_type": "execute_result"
    }
   ],
   "source": [
    "retained = marketing[marketing['is_retained'] == True].groupby(['subscribing_channel'])['user_id'].nunique()\n",
    "retained"
   ]
  },
  {
   "cell_type": "code",
   "execution_count": 41,
   "metadata": {},
   "outputs": [
    {
     "data": {
      "text/plain": [
       "subscribing_channel\n",
       "Email        161\n",
       "Facebook     221\n",
       "House Ads    298\n",
       "Instagram    232\n",
       "Push          77\n",
       "Name: user_id, dtype: int64"
      ]
     },
     "execution_count": 41,
     "metadata": {},
     "output_type": "execute_result"
    }
   ],
   "source": [
    "subscribers = marketing[marketing['converted'] == True].groupby(['subscribing_channel'])['user_id'].nunique()\n",
    "subscribers"
   ]
  },
  {
   "cell_type": "code",
   "execution_count": 42,
   "metadata": {},
   "outputs": [
    {
     "data": {
      "text/plain": [
       "subscribing_channel\n",
       "Email        87.577640\n",
       "Facebook     68.778281\n",
       "House Ads    58.053691\n",
       "Instagram    68.103448\n",
       "Push         70.129870\n",
       "Name: user_id, dtype: float64"
      ]
     },
     "execution_count": 42,
     "metadata": {},
     "output_type": "execute_result"
    }
   ],
   "source": [
    "# Calculating retention rate across the dataframe\n",
    "\n",
    "channel_retention_rate = (retained/subscribers)*100\n",
    "channel_retention_rate"
   ]
  },
  {
   "cell_type": "markdown",
   "metadata": {},
   "source": [
    "**Conversion Rate By Language**"
   ]
  },
  {
   "cell_type": "code",
   "execution_count": 47,
   "metadata": {},
   "outputs": [
    {
     "name": "stdout",
     "output_type": "stream",
     "text": [
      "English speaker conversion rate: 13.13 %\n"
     ]
    }
   ],
   "source": [
    "english_speakers = marketing[marketing['language_displayed'] == 'English']\n",
    "total = english_speakers['user_id'].nunique()\n",
    "\n",
    "subscribers = english_speakers[english_speakers['converted'] == True]['user_id'].nunique()\n",
    "\n",
    "conversion_rate = subscribers/total\n",
    "print('English speaker conversion rate:', round(conversion_rate*100,2), '%')"
   ]
  },
  {
   "cell_type": "code",
   "execution_count": 50,
   "metadata": {},
   "outputs": [
    {
     "data": {
      "text/plain": [
       "language_displayed\n",
       "Arabic     50.00\n",
       "English    13.13\n",
       "German     71.62\n",
       "Spanish    20.00\n",
       "Name: user_id, dtype: float64"
      ]
     },
     "execution_count": 50,
     "metadata": {},
     "output_type": "execute_result"
    }
   ],
   "source": [
    "total = marketing.groupby(['language_displayed'])['user_id'].nunique()\n",
    "\n",
    "subscribers = marketing[marketing['converted'] == True].groupby(['language_displayed'])['user_id'].nunique()\n",
    "\n",
    "language_conversion_rate = subscribers/total\n",
    "round(language_conversion_rate*100,2)\n"
   ]
  },
  {
   "cell_type": "markdown",
   "metadata": {},
   "source": [
    "The conversion rate is much lower for English and Spanish."
   ]
  },
  {
   "cell_type": "markdown",
   "metadata": {},
   "source": [
    "**Aggregting By Date**"
   ]
  },
  {
   "cell_type": "code",
   "execution_count": 54,
   "metadata": {},
   "outputs": [
    {
     "data": {
      "text/plain": [
       "date_served\n",
       "2018-01-01    10.0\n",
       "2018-01-02    10.0\n",
       "2018-01-03    10.0\n",
       "2018-01-04    11.0\n",
       "2018-01-05    13.0\n",
       "2018-01-06    11.0\n",
       "2018-01-07    14.0\n",
       "2018-01-08    12.0\n",
       "2018-01-09    13.0\n",
       "2018-01-10    12.0\n",
       "2018-01-11     8.0\n",
       "2018-01-12     8.0\n",
       "2018-01-13     9.0\n",
       "2018-01-14     9.0\n",
       "2018-01-15    11.0\n",
       "2018-01-16    26.0\n",
       "2018-01-17    22.0\n",
       "2018-01-18     9.0\n",
       "2018-01-19     6.0\n",
       "2018-01-20     7.0\n",
       "2018-01-21     9.0\n",
       "2018-01-22    12.0\n",
       "2018-01-23    12.0\n",
       "2018-01-24    12.0\n",
       "2018-01-25    13.0\n",
       "2018-01-26     9.0\n",
       "2018-01-27     7.0\n",
       "2018-01-28     6.0\n",
       "2018-01-29     6.0\n",
       "2018-01-30     7.0\n",
       "2018-01-31     5.0\n",
       "Name: user_id, dtype: float64"
      ]
     },
     "execution_count": 54,
     "metadata": {},
     "output_type": "execute_result"
    }
   ],
   "source": [
    "total = marketing.groupby(['date_served'])['user_id'].nunique()\n",
    "\n",
    "subscribers = marketing[marketing['converted'] == True].groupby(['date_served'])['user_id'].nunique()\n",
    "\n",
    "daily_conversion_rate = subscribers/total\n",
    "round(daily_conversion_rate*100.2)"
   ]
  },
  {
   "cell_type": "markdown",
   "metadata": {},
   "source": [
    "### Plotting Campaign Results"
   ]
  },
  {
   "cell_type": "code",
   "execution_count": 55,
   "metadata": {},
   "outputs": [
    {
     "data": {
      "image/png": "[encoded data removed]",
      "text/plain": [
       "<Figure size 640x480 with 1 Axes>"
      ]
     },
     "metadata": {},
     "output_type": "display_data"
    }
   ],
   "source": [
    "language_conversion_rate.plot(kind='bar')\n",
    "plt.title('Conversion Rate By Language', size = 16)\n",
    "plt.xlabel('Language', size = 16)\n",
    "plt.ylabel('Conversion Rate (%)', size = 14)\n",
    "# plt.xticks(rotation = 45)\n",
    "plt.show()"
   ]
  },
  {
   "cell_type": "markdown",
   "metadata": {},
   "source": [
    "### Calculating Subscriber Quality"
   ]
  },
  {
   "cell_type": "code",
   "execution_count": 57,
   "metadata": {},
   "outputs": [
    {
     "data": {
      "text/plain": [
       "date_subscribed\n",
       "2018-01-01    78.0\n",
       "2018-01-02    70.0\n",
       "2018-01-03    73.0\n",
       "2018-01-04    50.0\n",
       "2018-01-05    58.0\n",
       "Name: user_id, dtype: float64"
      ]
     },
     "execution_count": 57,
     "metadata": {},
     "output_type": "execute_result"
    }
   ],
   "source": [
    "total = marketing.groupby(['date_subscribed'])['user_id'].nunique()\n",
    "\n",
    "retained = marketing[marketing['is_retained'] == True].groupby(['date_subscribed'])['user_id'].nunique()\n",
    "\n",
    "daily_retention_rate = retained/total\n",
    "round(daily_retention_rate*100.2)[0:5]"
   ]
  },
  {
   "cell_type": "code",
   "execution_count": 59,
   "metadata": {},
   "outputs": [],
   "source": [
    "# Reset index to turn into dataframe\n",
    "\n",
    "daily_retention_rate = pd.DataFrame(daily_conversion_rate.reset_index())\n",
    "\n",
    "daily_retention_rate.columns = ['date_subscribed', 'retention_rate']"
   ]
  },
  {
   "cell_type": "code",
   "execution_count": 61,
   "metadata": {},
   "outputs": [
    {
     "data": {
      "image/png": "[encoded data removed]",
      "text/plain": [
       "<Figure size 640x480 with 1 Axes>"
      ]
     },
     "metadata": {},
     "output_type": "display_data"
    }
   ],
   "source": [
    "# Visualize trend over time\n",
    "daily_retention_rate.plot('date_subscribed', 'retention_rate')\n",
    "\n",
    "plt.title('Daily subscriber quality\\n', size=16)\n",
    "plt.xlabel('Date', size = 14)\n",
    "plt.ylabel('1-month retention rate (%)', size =14)\n",
    "plt.ylim(0)\n",
    "plt.show()"
   ]
  }
 ],
 "metadata": {
  "kernelspec": {
   "display_name": "Python 3.9.12 ('base')",
   "language": "python",
   "name": "python3"
  },
  "language_info": {
   "codemirror_mode": {
    "name": "ipython",
    "version": 3
   },
   "file_extension": ".py",
   "mimetype": "text/x-python",
   "name": "python",
   "nbconvert_exporter": "python",
   "pygments_lexer": "ipython3",
   "version": "3.9.12"
  },
  "orig_nbformat": 4,
  "vscode": {
   "interpreter": {
    "hash": "a077222d77dfe082b8f1dd562ad70e458ac2ab76993a0b248ab0476e32e9e8dd"
   }
  }
 },
 "nbformat": 4,
 "nbformat_minor": 2
}
